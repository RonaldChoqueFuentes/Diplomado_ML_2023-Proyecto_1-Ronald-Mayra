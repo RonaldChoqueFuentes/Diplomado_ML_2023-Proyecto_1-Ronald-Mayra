{
  "cells": [
    {
      "cell_type": "markdown",
      "source": [
        "**crear un job que realizará\n",
        "tuning de hiperparámetros de al menos un par de modelos:**"
      ],
      "metadata": {
        "nteract": {
          "transient": {
            "deleting": false
          }
        }
      }
    },
    {
      "cell_type": "code",
      "source": [
        "import os\n",
        "import urllib\n",
        "from IPython.display import Image\n",
        "from zipfile import ZipFile\n",
        "from azure.ai.ml.entities import AmlCompute\n",
        "from azure.core.exceptions import ResourceNotFoundError\n",
        "\n",
        "from azure.ai.ml.constants import AssetTypes, InputOutputModes\n",
        "from azure.ai.ml import Input\n",
        "\n",
        "from azure.ai.ml import MLClient\n",
        "from azure.ai.ml import automl\n",
        "from azure.identity import DefaultAzureCredential\n",
        "\n",
        "from azure.ai.ml.entities import Data\n",
        "from azure.ai.ml.constants import AssetTypes, InputOutputModes\n",
        "from azure.ai.ml import Input\n",
        "\n",
        "from PIL import Image\n",
        "import jsonlines\n",
        "\n",
        "import json\n",
        "\n",
        "def get_azure_credential(subscription_id, resource_group, workspace):\n",
        "    credential = DefaultAzureCredential()\n",
        "    ml_client = MLClient.from_config(credential)\n",
        "    ml_client =  MLClient(credential, subscription_id, resource_group, workspace)\n",
        "    return ml_client\n",
        "\n",
        "ml_client = get_azure_credential(\"<subcription_id>\",\"<resource_group>\",\"<workspace>\")\n"
      ],
      "outputs": [
        {
          "output_type": "stream",
          "name": "stderr",
          "text": "Found the config file in: /config.json\n"
        }
      ],
      "execution_count": 14,
      "metadata": {
        "gather": {
          "logged": 1697993496667
        }
      }
    },
    {
      "cell_type": "code",
      "source": [
        "compute_name = \"gpl-cluster-nc6sv3\"\n",
        "dataset_parent_dir = \"./data\"\n",
        "\n",
        "training_mltable_path = os.path.join(dataset_parent_dir, \"training-mltable-folder\")\n",
        "validation_mltable_path = os.path.join(dataset_parent_dir, \"validation-mltable-folder\")\n",
        "\n",
        "my_training_data_input = Input(type=AssetTypes.MLTABLE,path=training_mltable_path)\n",
        "my_validation_data_input = Input(type=AssetTypes.MLTABLE,path=validation_mltable_path)\n"
      ],
      "outputs": [],
      "execution_count": 15,
      "metadata": {
        "jupyter": {
          "source_hidden": false,
          "outputs_hidden": false
        },
        "nteract": {
          "transient": {
            "deleting": false
          }
        },
        "gather": {
          "logged": 1697993504910
        }
      }
    },
    {
      "cell_type": "code",
      "source": [
        "exp_name = \"dl-car-bike-objects-hyper\"\n",
        "\n",
        "image_classfication_job = automl.image_classification(\n",
        "    compute=compute_name,\n",
        "    experiment_name=exp_name,\n",
        "    training_data=my_training_data_input,\n",
        "    validation_data=my_validation_data_input,\n",
        "    target_column_name='label',\n",
        "    primary_metric=\"accuracy\",\n",
        "    tags={\"exp-name\":\"Job for image classification with car bikes object ds\"}\n",
        ")\n",
        "\n",
        "image_classfication_job.set_limits(max_trials=4, max_concurrent_trials=2)\n",
        "image_classfication_job.set_limits(timeout_minutes=60)\n",
        "\n",
        "\n"
      ],
      "outputs": [],
      "execution_count": 16,
      "metadata": {
        "jupyter": {
          "source_hidden": false,
          "outputs_hidden": false
        },
        "nteract": {
          "transient": {
            "deleting": false
          }
        },
        "gather": {
          "logged": 1697993507729
        }
      }
    },
    {
      "cell_type": "markdown",
      "source": [
        "**tuning de hiperparámetros**"
      ],
      "metadata": {
        "nteract": {
          "transient": {
            "deleting": false
          }
        }
      }
    },
    {
      "cell_type": "code",
      "source": [
        "from azure.ai.ml.automl import SearchSpace\n",
        "from azure.ai.ml.sweep import (Choice,Uniform,BanditPolicy,)\n"
      ],
      "outputs": [],
      "execution_count": 17,
      "metadata": {
        "jupyter": {
          "source_hidden": false,
          "outputs_hidden": false
        },
        "nteract": {
          "transient": {
            "deleting": false
          }
        },
        "gather": {
          "logged": 1697993510243
        }
      }
    },
    {
      "cell_type": "code",
      "source": [
        "\n",
        "# eleccion modelos a revisar\n",
        "tun_1 = SearchSpace( model_name=Choice([\"vitb16r224\", \"yolov5\"]),learning_rate=Uniform(0.001, 0.01),number_of_epochs=Choice([15, 30]), )\n",
        "tun_2 = SearchSpace( model_name=Choice([\"seresnext\", \"resnet50\"]),learning_rate=Uniform(0.001, 0.01),layers_to_freeze=Choice([0, 2]),)\n",
        "tunning = [tun_1, tun_2]\n",
        "\n",
        "\n",
        "image_classfication_job.extend_search_space(tunning)"
      ],
      "outputs": [],
      "execution_count": 18,
      "metadata": {
        "jupyter": {
          "source_hidden": false,
          "outputs_hidden": false
        },
        "nteract": {
          "transient": {
            "deleting": false
          }
        },
        "gather": {
          "logged": 1697993512609
        }
      }
    },
    {
      "cell_type": "code",
      "source": [
        "# tomade muestras random\n",
        "# politicas de terminacion\n",
        "limit_job = BanditPolicy(evaluation_interval=2, slack_factor=0.2, delay_evaluation=6)\n",
        "image_classfication_job.set_sweep(sampling_algorithm=\"Random\", early_termination=limit_job,)"
      ],
      "outputs": [],
      "execution_count": 19,
      "metadata": {
        "jupyter": {
          "source_hidden": false,
          "outputs_hidden": false
        },
        "nteract": {
          "transient": {
            "deleting": false
          }
        },
        "gather": {
          "logged": 1697993514242
        }
      }
    },
    {
      "cell_type": "code",
      "source": [
        "returned_job = ml_client.jobs.create_or_update(image_classfication_job)"
      ],
      "outputs": [],
      "execution_count": 20,
      "metadata": {
        "jupyter": {
          "source_hidden": false,
          "outputs_hidden": false
        },
        "nteract": {
          "transient": {
            "deleting": false
          }
        },
        "gather": {
          "logged": 1697993519509
        }
      }
    },
    {
      "cell_type": "markdown",
      "source": [
        "**Get training info**"
      ],
      "metadata": {
        "nteract": {
          "transient": {
            "deleting": false
          }
        }
      }
    },
    {
      "cell_type": "code",
      "source": [
        "from mlflow.tracking.client import MlflowClient\n",
        "\n",
        "mlflow_client = MlflowClient()\n",
        "\n",
        "job_name = returned_job.name\n",
        "\n",
        "mlflow_parent_run =  mlflow_client.get_run(job_name)\n",
        "print(mlflow_parent_run)"
      ],
      "outputs": [
        {
          "output_type": "stream",
          "name": "stdout",
          "text": "<Run: data=<RunData: metrics={'AUC_binary': 1.0,\n 'AUC_macro': 1.0,\n 'AUC_micro': 1.0,\n 'AUC_weighted': 1.0,\n 'accuracy': 1.0,\n 'accuracy_train': 0.99062,\n 'average_precision_score_binary': 1.0,\n 'average_precision_score_macro': 1.0,\n 'average_precision_score_micro': 1.0,\n 'average_precision_score_weighted': 1.0,\n 'f1_score_binary': 1.0,\n 'f1_score_macro': 1.0,\n 'f1_score_micro': 1.0,\n 'f1_score_weighted': 1.0,\n 'log_loss': 0.00252,\n 'log_loss_train': 0.02232,\n 'precision_score_binary': 1.0,\n 'precision_score_macro': 1.0,\n 'precision_score_micro': 1.0,\n 'precision_score_weighted': 1.0,\n 'recall_score_binary': 1.0,\n 'recall_score_macro': 1.0,\n 'recall_score_micro': 1.0,\n 'recall_score_weighted': 1.0}, params={}, tags={'automl_best_child_run_id': 'shy_loquat_f2k12bdbvr_HD_1',\n 'exp-name': 'Job for image classification with car bikes object ds',\n 'fit_time_000': 'NaN',\n 'is_gpu': 'True',\n 'iteration_000': '0',\n 'mlflow.rootRunId': 'shy_loquat_f2k12bdbvr',\n 'mlflow.runName': 'shy_loquat_f2k12bdbvr',\n 'mlflow.user': 'Ronald Choque',\n 'model_explain_run': 'best_run',\n 'pipeline_id_000': 'UnkownPipelineId',\n 'predicted_cost_000': '0',\n 'run_algorithm_000': '',\n 'run_preprocessor_000': '',\n 'score_000': '1',\n 'training_percent_000': '0'}>, info=<RunInfo: artifact_uri='azureml://westus.api.azureml.ms/mlflow/v2.0/subscriptions/46169265-43c5-42f4-b171-b27bdd8e5afa/resourceGroups/rchoque/providers/Microsoft.MachineLearningServices/workspaces/test-ml-rc-101/experiments/77fb400e-bd61-4acf-b9d1-09e99e8ccc5a/runs/shy_loquat_f2k12bdbvr/artifacts', end_time=1697997206201, experiment_id='77fb400e-bd61-4acf-b9d1-09e99e8ccc5a', lifecycle_stage='active', run_id='shy_loquat_f2k12bdbvr', run_name='shy_loquat_f2k12bdbvr', run_uuid='shy_loquat_f2k12bdbvr', start_time=1697993535770, status='FINISHED', user_id='b677c590-9813-4008-9578-ce85e2a6681f'>, inputs=<RunInputs: dataset_inputs=[]>>\n"
        }
      ],
      "execution_count": 21,
      "metadata": {
        "jupyter": {
          "source_hidden": false,
          "outputs_hidden": false
        },
        "nteract": {
          "transient": {
            "deleting": false
          }
        },
        "gather": {
          "logged": 1697998136384
        }
      }
    }
  ],
  "metadata": {
    "kernelspec": {
      "name": "python38-azureml",
      "language": "python",
      "display_name": "Python 3.8 - AzureML"
    },
    "language_info": {
      "name": "python",
      "version": "3.8.5",
      "mimetype": "text/x-python",
      "codemirror_mode": {
        "name": "ipython",
        "version": 3
      },
      "pygments_lexer": "ipython3",
      "nbconvert_exporter": "python",
      "file_extension": ".py"
    },
    "microsoft": {
      "ms_spell_check": {
        "ms_spell_check_language": "en"
      },
      "host": {
        "AzureML": {
          "notebookHasBeenCompleted": true
        }
      }
    },
    "kernel_info": {
      "name": "python38-azureml"
    },
    "nteract": {
      "version": "nteract-front-end@1.0.0"
    }
  },
  "nbformat": 4,
  "nbformat_minor": 2
}