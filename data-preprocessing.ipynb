{
  "cells": [
    {
      "cell_type": "markdown",
      "source": [
        "**Machine Learning**\n",
        "\n",
        "Crear un job que entrenará\n",
        "un modelo (o varios) en AutoML y desplegará el mejor modelo encontrado en un endpoint\n",
        "de Azure"
      ],
      "metadata": {
        "nteract": {
          "transient": {
            "deleting": false
          }
        }
      }
    },
    {
      "cell_type": "markdown",
      "source": [
        "**Clasificcion de imagenes entre motos y vehiculos  con Computer Vision**\n",
        "\n",
        "Dataset:\n",
        "\n",
        "https://www.kaggle.com/datasets/utkarshsaxenadn/car-vs-bike-classification-dataset/download?datasetVersionNumber=1\n"
      ],
      "metadata": {
        "nteract": {
          "transient": {
            "deleting": false
          }
        }
      }
    },
    {
      "cell_type": "code",
      "source": [
        "import os\n",
        "import urllib\n",
        "from IPython.display import Image\n",
        "from zipfile import ZipFile\n",
        "from azure.ai.ml.entities import AmlCompute\n",
        "from azure.core.exceptions import ResourceNotFoundError\n",
        "\n",
        "from azure.ai.ml.constants import AssetTypes, InputOutputModes\n",
        "from azure.ai.ml import Input\n",
        "\n",
        "from azure.ai.ml import MLClient\n",
        "from azure.ai.ml import automl\n",
        "from azure.identity import DefaultAzureCredential\n",
        "\n",
        "from azure.ai.ml.entities import Data\n",
        "from azure.ai.ml.constants import AssetTypes, InputOutputModes\n",
        "from azure.ai.ml import Input\n",
        "\n",
        "from PIL import Image\n",
        "import jsonlines\n",
        "\n",
        "import json\n",
        "\n",
        "def get_azure_credential(subscription_id, resource_group, workspace):\n",
        "    credential = DefaultAzureCredential()\n",
        "    ml_client = MLClient.from_config(credential)\n",
        "    ml_client =  MLClient(credential, subscription_id, resource_group, workspace)\n",
        "    return ml_client\n",
        "\n",
        "ml_client = get_azure_credential(\"<subcription_id>\",\"<resource_group>\",\"<workspace>\")"
      ],
      "outputs": [
        {
          "output_type": "stream",
          "name": "stderr",
          "text": "Found the config file in: /config.json\n"
        }
      ],
      "execution_count": 3,
      "metadata": {
        "gather": {
          "logged": 1697989573489
        }
      }
    },
    {
      "cell_type": "markdown",
      "source": [
        "Download data from:\n",
        "\n",
        "https://www.kaggle.com/datasets/utkarshsaxenadn/car-vs-bike-classification-dataset/download?datasetVersionNumber=1\n",
        "\n",
        "and load zip file as \"Car-Bike-Dataset.zip\" under the project/data/."
      ],
      "metadata": {
        "nteract": {
          "transient": {
            "deleting": false
          }
        }
      }
    },
    {
      "cell_type": "code",
      "source": [
        "dataset_parent_dir = \"./data\"\n",
        "\n",
        "os.makedirs(dataset_parent_dir, exist_ok= True)\n",
        "dataset_name = \"Car-Bike-Dataset\"\n",
        "dataset_dir = os.path.join(dataset_parent_dir, dataset_name)\n",
        "data_file = os.path.join(dataset_parent_dir, f\"{dataset_name}.zip\")"
      ],
      "outputs": [],
      "execution_count": 4,
      "metadata": {
        "jupyter": {
          "source_hidden": false,
          "outputs_hidden": false
        },
        "nteract": {
          "transient": {
            "deleting": false
          }
        },
        "gather": {
          "logged": 1697989600214
        }
      }
    },
    {
      "cell_type": "markdown",
      "source": [
        "**Unzip Car-Bike-Dataset.zip**"
      ],
      "metadata": {
        "nteract": {
          "transient": {
            "deleting": false
          }
        }
      }
    },
    {
      "cell_type": "code",
      "source": [
        "with ZipFile(data_file, \"r\") as  zip:\n",
        "    print(\"extracting files...\")\n",
        "    zip.extractall(path=dataset_parent_dir)\n",
        "    print(\"done\")"
      ],
      "outputs": [
        {
          "output_type": "stream",
          "name": "stdout",
          "text": "extracting files...\ndone\n"
        }
      ],
      "execution_count": 5,
      "metadata": {
        "jupyter": {
          "source_hidden": false,
          "outputs_hidden": false
        },
        "nteract": {
          "transient": {
            "deleting": false
          }
        },
        "gather": {
          "logged": 1697989803996
        }
      }
    },
    {
      "cell_type": "code",
      "source": [
        "dataset_dir"
      ],
      "outputs": [
        {
          "output_type": "execute_result",
          "execution_count": 6,
          "data": {
            "text/plain": "'./data/Car-Bike-Dataset'"
          },
          "metadata": {}
        }
      ],
      "execution_count": 6,
      "metadata": {
        "jupyter": {
          "source_hidden": false,
          "outputs_hidden": false
        },
        "nteract": {
          "transient": {
            "deleting": false
          }
        },
        "gather": {
          "logged": 1697989875543
        }
      }
    },
    {
      "cell_type": "markdown",
      "source": [
        "**Creando el data set de imagenes**"
      ],
      "metadata": {
        "nteract": {
          "transient": {
            "deleting": false
          }
        }
      }
    },
    {
      "cell_type": "code",
      "source": [
        "def get_azure_data(name_data, images_directory):\n",
        "    my_data = Data(\n",
        "        path=images_directory,\n",
        "        type=AssetTypes.URI_FOLDER,\n",
        "        description=name_data,\n",
        "        name=name_data,\n",
        "        )\n",
        "    return my_data\n",
        "\n",
        "my_data = get_azure_data(\"car-bike-items-images\", dataset_dir)\n",
        "uri_folder_data_asset = ml_client.data.create_or_update(my_data)\n",
        "uri_folder_data_asset.path"
      ],
      "outputs": [
        {
          "output_type": "stream",
          "name": "stderr",
          "text": "Your file exceeds 100 MB. If you experience low speeds, latency, or broken connections, we recommend using the AzCopyv10 tool for this file transfer.\n\nExample: azcopy copy '/mnt/batch/tasks/shared/LS_root/mounts/clusters/testrc101/code/Users/ron.todo.poderoso/proyecto/data/Car-Bike-Dataset' 'https://testmlrc1011915430857.blob.core.windows.net/azureml-blobstore-68770f40-7934-479c-9806-116f9382554b/LocalUpload/4c31c224c64a6b41065d1ba5299db930/Car-Bike-Dataset' \n\nSee https://docs.microsoft.com/azure/storage/common/storage-use-azcopy-v10 for more information.\n\u001b[32mUploading Car-Bike-Dataset (108.34 MBs): 100%|██████████| 108343036/108343036 [00:36<00:00, 2936219.03it/s] \n\u001b[39m\n\n"
        },
        {
          "output_type": "execute_result",
          "execution_count": 7,
          "data": {
            "text/plain": "'azureml://subscriptions/46169265-43c5-42f4-b171-b27bdd8e5afa/resourcegroups/rchoque/workspaces/test-ml-rc-101/datastores/workspaceblobstore/paths/LocalUpload/4c31c224c64a6b41065d1ba5299db930/Car-Bike-Dataset/'"
          },
          "metadata": {}
        }
      ],
      "execution_count": 7,
      "metadata": {
        "jupyter": {
          "source_hidden": false,
          "outputs_hidden": false
        },
        "nteract": {
          "transient": {
            "deleting": false
          }
        },
        "gather": {
          "logged": 1697990045607
        }
      }
    },
    {
      "cell_type": "markdown",
      "source": [
        "it store the images on some place:\n",
        "\n",
        "**'azureml://subscriptions/46169265-43c5-42f4-b171-b27bdd8e5afa/resourcegroups/rchoque/workspaces/ws-test-rc-99/datastores/workspaceblobstore/paths/LocalUpload/8089963543cc1bc314894a1ef58df14d/Car-Bike-Dataset/'\n",
        "**"
      ],
      "metadata": {
        "nteract": {
          "transient": {
            "deleting": false
          }
        }
      }
    },
    {
      "cell_type": "markdown",
      "source": [
        "create:\n",
        "**car_bike_objects.jsonl**"
      ],
      "metadata": {
        "nteract": {
          "transient": {
            "deleting": false
          }
        }
      }
    },
    {
      "cell_type": "code",
      "source": [
        "# Define the output JSONL file path\n",
        "output_jsonl_file = \"car_bike_objects.jsonl\"\n",
        "\n",
        "image_dir = \"./data/Car-Bike-Dataset/\"\n",
        "\n",
        "blob_storage_objects_path=uri_folder_data_asset.path\n",
        "\n",
        "# List of classes\n",
        "classes = [\"Car\", \"Bike\"]"
      ],
      "outputs": [],
      "execution_count": 8,
      "metadata": {
        "jupyter": {
          "source_hidden": false,
          "outputs_hidden": false
        },
        "nteract": {
          "transient": {
            "deleting": false
          }
        },
        "gather": {
          "logged": 1697990052495
        }
      }
    },
    {
      "cell_type": "code",
      "source": [
        "# Open the JSONL file for writing\n",
        "with jsonlines.open(output_jsonl_file, mode='w') as writer:\n",
        "    # Loop through each class directory\n",
        "    for class_name in classes:\n",
        "        class_dir = os.path.join(image_dir, class_name)\n",
        "        # Check if the class directory exists\n",
        "        if os.path.exists(class_dir) and os.path.isdir(class_dir):\n",
        "            # List all image files in the class directory\n",
        "            image_files = [f for f in os.listdir(class_dir) if f.lower().endswith(('.jpg', '.jpeg', '.png', '.bmp'))]\n",
        "            print(f'images found in {class_dir}: {len(image_files)}')\n",
        "            # Loop through each image file\n",
        "            for image_file in image_files:\n",
        "                # Construct the full image path\n",
        "                image_path = os.path.join(class_dir, image_file)\n",
        "                \n",
        "                # Open the image to get its details\n",
        "                with Image.open(image_path) as img:\n",
        "                    image_details = {\n",
        "                        \"format\": img.format,\n",
        "                        \"width\": img.width,\n",
        "                        \"height\": img.height\n",
        "                    }\n",
        "                img_path_names = image_path.split('/')\n",
        "                # Create the JSON object for this image\n",
        "                image_info = {\n",
        "                    \"image_url\": f\"{blob_storage_objects_path}{img_path_names[-2]}/{img_path_names[-1]}\",\n",
        "                    \"image_details\": image_details,\n",
        "                    \"label\": class_name\n",
        "                }\n",
        "                \n",
        "                # Write the JSON object to the JSONL file\n",
        "                writer.write(image_info)\n",
        "        else:\n",
        "            print(f'directory:{class_dir} does not exists')\n",
        "print(f\"JSONL file '{output_jsonl_file}' has been created.\")"
      ],
      "outputs": [
        {
          "output_type": "stream",
          "name": "stdout",
          "text": "images found in ./data/Car-Bike-Dataset/Car: 2000\nimages found in ./data/Car-Bike-Dataset/Bike: 2000\nJSONL file 'car_bike_objects.jsonl' has been created.\n"
        }
      ],
      "execution_count": 9,
      "metadata": {
        "jupyter": {
          "source_hidden": false,
          "outputs_hidden": false
        },
        "nteract": {
          "transient": {
            "deleting": false
          }
        },
        "gather": {
          "logged": 1697990142312
        }
      }
    },
    {
      "cell_type": "code",
      "source": [
        "jsonl_annotations = output_jsonl_file\n",
        "jsonl_annotations"
      ],
      "outputs": [
        {
          "output_type": "execute_result",
          "execution_count": 10,
          "data": {
            "text/plain": "'car_bike_objects.jsonl'"
          },
          "metadata": {}
        }
      ],
      "execution_count": 10,
      "metadata": {
        "jupyter": {
          "source_hidden": false,
          "outputs_hidden": false
        },
        "nteract": {
          "transient": {
            "deleting": false
          }
        },
        "gather": {
          "logged": 1697990151542
        }
      }
    },
    {
      "cell_type": "code",
      "source": [
        "training_mltable_path = os.path.join(dataset_parent_dir, \"training-mltable-folder\")\n",
        "validation_mltable_path = os.path.join(dataset_parent_dir, \"validation-mltable-folder\")\n",
        "\n",
        "os.makedirs(training_mltable_path, exist_ok=True)\n",
        "os.makedirs(validation_mltable_path, exist_ok=True)"
      ],
      "outputs": [],
      "execution_count": 11,
      "metadata": {
        "jupyter": {
          "source_hidden": false,
          "outputs_hidden": false
        },
        "nteract": {
          "transient": {
            "deleting": false
          }
        },
        "gather": {
          "logged": 1697990153406
        }
      }
    },
    {
      "cell_type": "code",
      "source": [
        "train_validation_ratio = 5\n",
        "training_annotations_file = os.path.join(training_mltable_path, \"training_annotations.jsonl\")\n",
        "validation_annotations_file = os.path.join(validation_mltable_path, \"validation_annotations.jsonl\")"
      ],
      "outputs": [],
      "execution_count": 14,
      "metadata": {
        "jupyter": {
          "source_hidden": false,
          "outputs_hidden": false
        },
        "nteract": {
          "transient": {
            "deleting": false
          }
        },
        "gather": {
          "logged": 1697990164034
        }
      }
    },
    {
      "cell_type": "code",
      "source": [
        "json_lines = None\n",
        "with open(jsonl_annotations, \"r\") as annot_f:\n",
        "    json_lines = annot_f.readlines()"
      ],
      "outputs": [],
      "execution_count": 15,
      "metadata": {
        "jupyter": {
          "source_hidden": false,
          "outputs_hidden": false
        },
        "nteract": {
          "transient": {
            "deleting": false
          }
        },
        "gather": {
          "logged": 1697990166213
        }
      }
    },
    {
      "cell_type": "code",
      "source": [
        "index = 0\n",
        "\n",
        "with open(training_annotations_file, \"w\") as train_f:\n",
        "    with open(validation_annotations_file, \"w\") as validation_f:\n",
        "        for json_line in json_lines:\n",
        "            if index % train_validation_ratio == 0:\n",
        "                validation_f.write(json_line)\n",
        "            else:\n",
        "                train_f.write(json_line)\n",
        "            index+=1"
      ],
      "outputs": [],
      "execution_count": 16,
      "metadata": {
        "jupyter": {
          "source_hidden": false,
          "outputs_hidden": false
        },
        "nteract": {
          "transient": {
            "deleting": false
          }
        },
        "gather": {
          "logged": 1697990170854
        }
      }
    },
    {
      "cell_type": "markdown",
      "source": [
        "**Create a MLtable para enviar el job de AUTO ML**"
      ],
      "metadata": {
        "nteract": {
          "transient": {
            "deleting": false
          }
        }
      }
    },
    {
      "cell_type": "code",
      "source": [
        "def create_ml_table_file(filename):\n",
        "    return (\n",
        "        \"paths:\\n\"\n",
        "        \"  - file: ./{0}\\n\"\n",
        "        \"transformations:\\n\"\n",
        "        \"  - read_json_lines:\\n\"\n",
        "        \"        encoding: utf8\\n\"\n",
        "        \"        invalid_lines: error\\n\"\n",
        "        \"        include_path_column: false\\n\"\n",
        "        \"  - convert_column_types:\\n\"\n",
        "        \"      - columns: image_url\\n\"\n",
        "        \"        column_type: stream_info\"\n",
        "    ).format(filename)\n",
        "\n",
        "def save_mltable_file(output_path, mltable_file_contents):\n",
        "    file_path = os.path.join(output_path, \"MLTable\")\n",
        "    with open(file_path, \"w\") as f:\n",
        "        f.write(mltable_file_contents)"
      ],
      "outputs": [],
      "execution_count": 17,
      "metadata": {
        "jupyter": {
          "source_hidden": false,
          "outputs_hidden": false
        },
        "nteract": {
          "transient": {
            "deleting": false
          }
        },
        "gather": {
          "logged": 1697990194723
        }
      }
    },
    {
      "cell_type": "code",
      "source": [
        "train_mltable_file_contents = create_ml_table_file(os.path.basename(training_annotations_file))\n",
        "save_mltable_file(training_mltable_path, train_mltable_file_contents)"
      ],
      "outputs": [],
      "execution_count": 18,
      "metadata": {
        "jupyter": {
          "source_hidden": false,
          "outputs_hidden": false
        },
        "nteract": {
          "transient": {
            "deleting": false
          }
        },
        "gather": {
          "logged": 1697990198646
        }
      }
    },
    {
      "cell_type": "code",
      "source": [
        "validation_mltable_file_contents = create_ml_table_file(os.path.basename(validation_annotations_file))\n",
        "save_mltable_file(validation_mltable_path, validation_mltable_file_contents)"
      ],
      "outputs": [],
      "execution_count": 19,
      "metadata": {
        "jupyter": {
          "source_hidden": false,
          "outputs_hidden": false
        },
        "nteract": {
          "transient": {
            "deleting": false
          }
        },
        "gather": {
          "logged": 1697990199894
        }
      }
    }
  ],
  "metadata": {
    "kernelspec": {
      "name": "python38-azureml",
      "language": "python",
      "display_name": "Python 3.8 - AzureML"
    },
    "language_info": {
      "name": "python",
      "version": "3.8.5",
      "mimetype": "text/x-python",
      "codemirror_mode": {
        "name": "ipython",
        "version": 3
      },
      "pygments_lexer": "ipython3",
      "nbconvert_exporter": "python",
      "file_extension": ".py"
    },
    "microsoft": {
      "ms_spell_check": {
        "ms_spell_check_language": "en"
      },
      "host": {
        "AzureML": {
          "notebookHasBeenCompleted": true
        }
      }
    },
    "nteract": {
      "version": "nteract-front-end@1.0.0"
    },
    "kernel_info": {
      "name": "python38-azureml"
    }
  },
  "nbformat": 4,
  "nbformat_minor": 2
}