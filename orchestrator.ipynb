{
  "cells": [
    {
      "cell_type": "markdown",
      "source": [
        "**Prepare el Dataset**"
      ],
      "metadata": {
        "nteract": {
          "transient": {
            "deleting": false
          }
        }
      }
    },
    {
      "cell_type": "code",
      "source": [
        "import os\n",
        "import urllib\n",
        "from IPython.display import Image\n",
        "from zipfile import ZipFile\n",
        "from azure.ai.ml.entities import AmlCompute\n",
        "from azure.core.exceptions import ResourceNotFoundError\n",
        "\n",
        "from azure.ai.ml.constants import AssetTypes, InputOutputModes\n",
        "from azure.ai.ml import Input\n",
        "\n",
        "from azure.ai.ml import MLClient\n",
        "from azure.ai.ml import automl\n",
        "from azure.identity import DefaultAzureCredential\n",
        "\n",
        "from azure.ai.ml.entities import Data\n",
        "from azure.ai.ml.constants import AssetTypes, InputOutputModes\n",
        "from azure.ai.ml import Input\n",
        "\n",
        "from PIL import Image\n",
        "import jsonlines\n",
        "\n",
        "import json\n",
        "\n",
        "def get_azure_credential(subscription_id, resource_group, workspace):\n",
        "    credential = DefaultAzureCredential()\n",
        "    ml_client = MLClient.from_config(credential)\n",
        "    ml_client =  MLClient(credential, subscription_id, resource_group, workspace)\n",
        "    return ml_client\n",
        "\n",
        "ml_client = get_azure_credential(\"<subcription_id>\",\"<resource_group>\",\"<workspace>\")"
      ],
      "outputs": [
        {
          "output_type": "stream",
          "name": "stderr",
          "text": "Found the config file in: /config.json\n"
        }
      ],
      "execution_count": 1,
      "metadata": {
        "jupyter": {
          "source_hidden": false,
          "outputs_hidden": false
        },
        "nteract": {
          "transient": {
            "deleting": false
          }
        },
        "gather": {
          "logged": 1697990243801
        }
      }
    },
    {
      "cell_type": "code",
      "source": [
        "dataset_parent_dir = \"./data\"\n",
        "dataset_name = \"Car-Bike-Dataset\"\n",
        "dataset_dir = os.path.join(dataset_parent_dir, dataset_name)\n",
        "data_file = os.path.join(dataset_parent_dir, f\"{dataset_name}.zip\")\n"
      ],
      "outputs": [],
      "execution_count": 2,
      "metadata": {
        "jupyter": {
          "source_hidden": false,
          "outputs_hidden": false
        },
        "nteract": {
          "transient": {
            "deleting": false
          }
        },
        "gather": {
          "logged": 1697990256012
        }
      }
    },
    {
      "cell_type": "code",
      "source": [
        "training_mltable_path = os.path.join(dataset_parent_dir, \"training-mltable-folder\")\n",
        "validation_mltable_path = os.path.join(dataset_parent_dir, \"validation-mltable-folder\")\n"
      ],
      "outputs": [],
      "execution_count": 3,
      "metadata": {
        "jupyter": {
          "source_hidden": false,
          "outputs_hidden": false
        },
        "nteract": {
          "transient": {
            "deleting": false
          }
        },
        "gather": {
          "logged": 1697990258580
        }
      }
    },
    {
      "cell_type": "markdown",
      "source": [
        "**Sent to Training**"
      ],
      "metadata": {
        "nteract": {
          "transient": {
            "deleting": false
          }
        }
      }
    },
    {
      "cell_type": "code",
      "source": [
        "my_training_data_input = Input(type=AssetTypes.MLTABLE,path=training_mltable_path)\n",
        "my_validation_data_input = Input(type=AssetTypes.MLTABLE,path=validation_mltable_path)"
      ],
      "outputs": [],
      "execution_count": 4,
      "metadata": {
        "jupyter": {
          "source_hidden": false,
          "outputs_hidden": false
        },
        "nteract": {
          "transient": {
            "deleting": false
          }
        },
        "gather": {
          "logged": 1697990262578
        }
      }
    },
    {
      "cell_type": "code",
      "source": [
        "compute_name = \"gpl-cluster-nc6sv3\"\n",
        "def create_cluster_computer(compute_name):\n",
        "    try:\n",
        "        _ = ml_client.compute.get(compute_name)\n",
        "        print(\"Found Existing compute target\")\n",
        "    except:\n",
        "        print(\"Creating a new Computer target\")\n",
        "        conpute_config = AmlCompute(\n",
        "            name=compute_name,\n",
        "            type=\"amlcompute\",\n",
        "            size=\"Standard_NC6s_v3\",\n",
        "            idle_time_before_scale_down=120,\n",
        "            min_instances=0,\n",
        "            max_instances=4\n",
        "        )\n",
        "        ml_client.begin_create_or_update(conpute_config).result()\n",
        "        print(\"Done\")\n",
        "\n",
        "create_cluster_computer(compute_name)"
      ],
      "outputs": [
        {
          "output_type": "stream",
          "name": "stdout",
          "text": "Creating a new Computer target\nDone\n"
        }
      ],
      "execution_count": 5,
      "metadata": {
        "jupyter": {
          "source_hidden": false,
          "outputs_hidden": false
        },
        "nteract": {
          "transient": {
            "deleting": false
          }
        },
        "gather": {
          "logged": 1697990298040
        }
      }
    },
    {
      "cell_type": "markdown",
      "source": [
        "Create image classification job"
      ],
      "metadata": {
        "nteract": {
          "transient": {
            "deleting": false
          }
        }
      }
    },
    {
      "cell_type": "code",
      "source": [
        "exp_name = \"dl-car-bike-objects\"\n",
        "\n",
        "image_classfication_job = automl.image_classification(\n",
        "    compute=compute_name,\n",
        "    experiment_name=exp_name,\n",
        "    training_data=my_training_data_input,\n",
        "    validation_data=my_validation_data_input,\n",
        "    target_column_name='label',\n",
        "    primary_metric=\"accuracy\",\n",
        "    tags={\"exp-name\":\"Job for image classification with car bikes object ds\"}\n",
        ")\n",
        "\n",
        "image_classfication_job.set_limits(max_trials=4, max_concurrent_trials=2)\n",
        "\n",
        "returned_job = ml_client.jobs.create_or_update(image_classfication_job)"
      ],
      "outputs": [
        {
          "output_type": "stream",
          "name": "stderr",
          "text": "\u001b[32mUploading training-mltable-folder (1.05 MBs): 100%|██████████| 1049489/1049489 [00:00<00:00, 21392837.96it/s]\n\u001b[39m\n\n\u001b[32mUploading validation-mltable-folder (0.26 MBs): 100%|██████████| 262810/262810 [00:00<00:00, 6401306.82it/s]\n\u001b[39m\n\n"
        }
      ],
      "execution_count": 6,
      "metadata": {
        "jupyter": {
          "source_hidden": false,
          "outputs_hidden": false
        },
        "nteract": {
          "transient": {
            "deleting": false
          }
        },
        "gather": {
          "logged": 1697990312529
        }
      }
    },
    {
      "cell_type": "code",
      "source": [
        "import mlflow\n",
        "\n",
        "MLFLOW_TRACKING_URI = ml_client.workspaces.get(name=ml_client.workspace_name).mlflow_tracking_uri\n",
        "print(MLFLOW_TRACKING_URI)"
      ],
      "outputs": [
        {
          "output_type": "stream",
          "name": "stdout",
          "text": "azureml://westus.api.azureml.ms/mlflow/v1.0/subscriptions/46169265-43c5-42f4-b171-b27bdd8e5afa/resourceGroups/rchoque/providers/Microsoft.MachineLearningServices/workspaces/test-ml-rc-101\n"
        }
      ],
      "execution_count": 9,
      "metadata": {
        "jupyter": {
          "source_hidden": false,
          "outputs_hidden": false
        },
        "nteract": {
          "transient": {
            "deleting": false
          }
        },
        "gather": {
          "logged": 1697993260836
        }
      }
    },
    {
      "cell_type": "code",
      "source": [
        "from mlflow.tracking.client import MlflowClient\n",
        "\n",
        "mlflow_client = MlflowClient()"
      ],
      "outputs": [],
      "execution_count": 10,
      "metadata": {
        "jupyter": {
          "source_hidden": false,
          "outputs_hidden": false
        },
        "nteract": {
          "transient": {
            "deleting": false
          }
        },
        "gather": {
          "logged": 1697993264815
        }
      }
    },
    {
      "cell_type": "code",
      "source": [
        "\n",
        "job_name = returned_job.name\n",
        "\n",
        "mlflow_parent_run =  mlflow_client.get_run(job_name)\n",
        "print(mlflow_parent_run)"
      ],
      "outputs": [
        {
          "output_type": "stream",
          "name": "stdout",
          "text": "<Run: data=<RunData: metrics={'AUC_binary': 1.0,\n 'AUC_macro': 1.0,\n 'AUC_micro': 1.0,\n 'AUC_weighted': 1.0,\n 'accuracy': 0.99875,\n 'accuracy_train': 0.99094,\n 'average_precision_score_binary': 1.0,\n 'average_precision_score_macro': 1.0,\n 'average_precision_score_micro': 1.0,\n 'average_precision_score_weighted': 1.0,\n 'f1_score_binary': 0.99875,\n 'f1_score_macro': 0.99875,\n 'f1_score_micro': 0.99875,\n 'f1_score_weighted': 0.99875,\n 'log_loss': 0.00238,\n 'log_loss_train': 0.02392,\n 'precision_score_binary': 0.99751,\n 'precision_score_macro': 0.99875,\n 'precision_score_micro': 0.99875,\n 'precision_score_weighted': 0.99875,\n 'recall_score_binary': 1.0,\n 'recall_score_macro': 0.99875,\n 'recall_score_micro': 0.99875,\n 'recall_score_weighted': 0.99875}, params={}, tags={'automl_best_child_run_id': 'amusing_camel_ssmp0rm8pv_HD_0',\n 'exp-name': 'Job for image classification with car bikes object ds',\n 'fit_time_000': 'NaN',\n 'is_gpu': 'True',\n 'iteration_000': '0',\n 'mlflow.rootRunId': 'amusing_camel_ssmp0rm8pv',\n 'mlflow.runName': 'amusing_camel_ssmp0rm8pv',\n 'mlflow.user': 'Ronald Choque',\n 'model_explain_run': 'best_run',\n 'pipeline_id_000': 'UnkownPipelineId',\n 'predicted_cost_000': '0',\n 'run_algorithm_000': '',\n 'run_preprocessor_000': '',\n 'score_000': '1',\n 'training_percent_000': '0'}>, info=<RunInfo: artifact_uri='azureml://westus.api.azureml.ms/mlflow/v2.0/subscriptions/46169265-43c5-42f4-b171-b27bdd8e5afa/resourceGroups/rchoque/providers/Microsoft.MachineLearningServices/workspaces/test-ml-rc-101/experiments/a98676f8-784a-4631-bafc-c42ce748bebe/runs/amusing_camel_ssmp0rm8pv/artifacts', end_time=1697993097696, experiment_id='a98676f8-784a-4631-bafc-c42ce748bebe', lifecycle_stage='active', run_id='amusing_camel_ssmp0rm8pv', run_name='amusing_camel_ssmp0rm8pv', run_uuid='amusing_camel_ssmp0rm8pv', start_time=1697990329369, status='FINISHED', user_id='b677c590-9813-4008-9578-ce85e2a6681f'>, inputs=<RunInputs: dataset_inputs=[]>>\n"
        }
      ],
      "execution_count": 11,
      "metadata": {
        "jupyter": {
          "source_hidden": false,
          "outputs_hidden": false
        },
        "nteract": {
          "transient": {
            "deleting": false
          }
        },
        "gather": {
          "logged": 1697993268807
        }
      }
    },
    {
      "cell_type": "code",
      "source": [
        "print(mlflow_parent_run.data.tags['automl_best_child_run_id'])"
      ],
      "outputs": [
        {
          "output_type": "stream",
          "name": "stdout",
          "text": "amusing_camel_ssmp0rm8pv_HD_0\n"
        }
      ],
      "execution_count": 12,
      "metadata": {
        "jupyter": {
          "source_hidden": false,
          "outputs_hidden": false
        },
        "nteract": {
          "transient": {
            "deleting": false
          }
        },
        "gather": {
          "logged": 1697993273140
        }
      }
    },
    {
      "cell_type": "code",
      "source": [
        "best_child_run_id = mlflow_parent_run.data.tags['automl_best_child_run_id']\n",
        "best_run = mlflow_client.get_run(best_child_run_id)"
      ],
      "outputs": [],
      "execution_count": 13,
      "metadata": {
        "jupyter": {
          "source_hidden": false,
          "outputs_hidden": false
        },
        "nteract": {
          "transient": {
            "deleting": false
          }
        },
        "gather": {
          "logged": 1697993279031
        }
      }
    },
    {
      "cell_type": "markdown",
      "source": [
        "**Metrics Best Model**"
      ],
      "metadata": {
        "nteract": {
          "transient": {
            "deleting": false
          }
        }
      }
    },
    {
      "cell_type": "code",
      "source": [
        "best_run.data.metrics"
      ],
      "outputs": [
        {
          "output_type": "execute_result",
          "execution_count": 14,
          "data": {
            "text/plain": "{'log_loss': 0.00238,\n 'accuracy_train': 0.99094,\n 'log_loss_train': 0.02392,\n 'precision_score_weighted': 0.99875,\n 'f1_score_binary': 0.99875,\n 'recall_score_binary': 1.0,\n 'average_precision_score_macro': 1.0,\n 'recall_score_macro': 0.99875,\n 'f1_score_macro': 0.99875,\n 'precision_score_macro': 0.99875,\n 'f1_score_weighted': 0.99875,\n 'average_precision_score_micro': 1.0,\n 'accuracy': 0.99875,\n 'precision_score_binary': 0.99751,\n 'recall_score_weighted': 0.99875,\n 'AUC_weighted': 1.0,\n 'AUC_micro': 1.0,\n 'recall_score_micro': 0.99875,\n 'AUC_macro': 1.0,\n 'AUC_binary': 1.0,\n 'precision_score_micro': 0.99875,\n 'f1_score_micro': 0.99875,\n 'average_precision_score_binary': 1.0,\n 'average_precision_score_weighted': 1.0}"
          },
          "metadata": {}
        }
      ],
      "execution_count": 14,
      "metadata": {
        "jupyter": {
          "source_hidden": false,
          "outputs_hidden": false
        },
        "nteract": {
          "transient": {
            "deleting": false
          }
        },
        "gather": {
          "logged": 1697993283200
        }
      }
    },
    {
      "cell_type": "markdown",
      "source": [
        "**descargar el modelo un folder local**"
      ],
      "metadata": {
        "nteract": {
          "transient": {
            "deleting": false
          }
        }
      }
    },
    {
      "cell_type": "code",
      "source": [
        "import os\n",
        "\n",
        "local_dir = \"./artifact_downloads\"\n",
        "if not os.path.exists(local_dir):\n",
        "    os.mkdir(local_dir)"
      ],
      "outputs": [],
      "execution_count": 15,
      "metadata": {
        "jupyter": {
          "source_hidden": false,
          "outputs_hidden": false
        },
        "nteract": {
          "transient": {
            "deleting": false
          }
        },
        "gather": {
          "logged": 1697993311264
        }
      }
    },
    {
      "cell_type": "code",
      "source": [
        "local_path = mlflow_client.download_artifacts(best_run.info.run_id, \"outputs\", local_dir)\n",
        "local_path"
      ],
      "outputs": [
        {
          "output_type": "display_data",
          "data": {
            "text/plain": "Downloading artifacts:   0%|          | 0/13 [00:00<?, ?it/s]",
            "application/vnd.jupyter.widget-view+json": {
              "version_major": 2,
              "version_minor": 0,
              "model_id": "c7ce638880384561ba2ade6557c124ab"
            }
          },
          "metadata": {}
        },
        {
          "output_type": "stream",
          "name": "stderr",
          "text": "2023/10/22 16:48:41 INFO mlflow.store.artifact.artifact_repo: The progress bar can be disabled by setting the environment variable MLFLOW_ENABLE_ARTIFACTS_PROGRESS_BAR to false\n"
        },
        {
          "output_type": "execute_result",
          "execution_count": 16,
          "data": {
            "text/plain": "'/mnt/batch/tasks/shared/LS_root/mounts/clusters/testrc101/code/Users/ron.todo.poderoso/proyecto/artifact_downloads/outputs'"
          },
          "metadata": {}
        }
      ],
      "execution_count": 16,
      "metadata": {
        "jupyter": {
          "source_hidden": false,
          "outputs_hidden": false
        },
        "nteract": {
          "transient": {
            "deleting": false
          }
        },
        "gather": {
          "logged": 1697993337126
        }
      }
    },
    {
      "cell_type": "markdown",
      "source": [
        "**Crear el endpoint**"
      ],
      "metadata": {
        "nteract": {
          "transient": {
            "deleting": false
          }
        }
      }
    },
    {
      "cell_type": "code",
      "source": [
        "from azure.ai.ml.entities import (ManagedOnlineEndpoint, ManagedOnlineDeployment, Model, Environment,CodeConfiguration,ProbeSettings)\n"
      ],
      "outputs": [],
      "execution_count": 17,
      "metadata": {
        "jupyter": {
          "source_hidden": false,
          "outputs_hidden": false
        },
        "nteract": {
          "transient": {
            "deleting": false
          }
        },
        "gather": {
          "logged": 1697993540908
        }
      }
    },
    {
      "cell_type": "code",
      "source": [
        "import datetime\n",
        "online_endpoint_name = \"car-bike-items\" + datetime.datetime.now().strftime(\"%m%d%H%M\")\n",
        "\n",
        "endpoint = ManagedOnlineEndpoint(\n",
        "    name = online_endpoint_name,\n",
        "    description=\"this is a sample of a endpoint\",\n",
        "    auth_mode=\"key\",\n",
        "    tags={\"foo\":\"bar\"}\n",
        ")"
      ],
      "outputs": [],
      "execution_count": 30,
      "metadata": {
        "jupyter": {
          "source_hidden": false,
          "outputs_hidden": false
        },
        "nteract": {
          "transient": {
            "deleting": false
          }
        },
        "gather": {
          "logged": 1697994563696
        }
      }
    },
    {
      "cell_type": "code",
      "source": [
        "ml_client.begin_create_or_update(endpoint).result()"
      ],
      "outputs": [
        {
          "output_type": "execute_result",
          "execution_count": 31,
          "data": {
            "text/plain": "ManagedOnlineEndpoint({'public_network_access': 'Enabled', 'provisioning_state': 'Succeeded', 'scoring_uri': 'https://car-bike-items10221709.westus.inference.ml.azure.com/score', 'openapi_uri': 'https://car-bike-items10221709.westus.inference.ml.azure.com/swagger.json', 'name': 'car-bike-items10221709', 'description': 'this is a sample of a endpoint', 'tags': {'foo': 'bar'}, 'properties': {'azureml.onlineendpointid': '/subscriptions/46169265-43c5-42f4-b171-b27bdd8e5afa/resourcegroups/rchoque/providers/microsoft.machinelearningservices/workspaces/test-ml-rc-101/onlineendpoints/car-bike-items10221709', 'AzureAsyncOperationUri': 'https://management.azure.com/subscriptions/46169265-43c5-42f4-b171-b27bdd8e5afa/providers/Microsoft.MachineLearningServices/locations/westus/mfeOperationsStatus/oe:68770f40-7934-479c-9806-116f9382554b:67c994e9-8988-4585-a23e-9ed7e8b2a0b7?api-version=2022-02-01-preview'}, 'print_as_yaml': True, 'id': '/subscriptions/46169265-43c5-42f4-b171-b27bdd8e5afa/resourceGroups/rchoque/providers/Microsoft.MachineLearningServices/workspaces/test-ml-rc-101/onlineEndpoints/car-bike-items10221709', 'Resource__source_path': None, 'base_path': '/mnt/batch/tasks/shared/LS_root/mounts/clusters/testrc101/code/Users/ron.todo.poderoso/proyecto', 'creation_context': None, 'serialize': <msrest.serialization.Serializer object at 0x7fee578e8b20>, 'auth_mode': 'key', 'location': 'westus', 'identity': <azure.ai.ml.entities._credentials.IdentityConfiguration object at 0x7fee578e8970>, 'traffic': {}, 'mirror_traffic': {}, 'kind': 'Managed'})"
          },
          "metadata": {}
        }
      ],
      "execution_count": 31,
      "metadata": {
        "jupyter": {
          "source_hidden": false,
          "outputs_hidden": false
        },
        "nteract": {
          "transient": {
            "deleting": false
          }
        },
        "gather": {
          "logged": 1697994662334
        }
      }
    },
    {
      "cell_type": "markdown",
      "source": [
        "**Registrar el Modelo**\n"
      ],
      "metadata": {
        "nteract": {
          "transient": {
            "deleting": false
          }
        }
      }
    },
    {
      "cell_type": "code",
      "source": [
        "best_run.info.run_id"
      ],
      "outputs": [
        {
          "output_type": "execute_result",
          "execution_count": 32,
          "data": {
            "text/plain": "'amusing_camel_ssmp0rm8pv_HD_0'"
          },
          "metadata": {}
        }
      ],
      "execution_count": 32,
      "metadata": {
        "jupyter": {
          "source_hidden": false,
          "outputs_hidden": false
        },
        "nteract": {
          "transient": {
            "deleting": false
          }
        },
        "gather": {
          "logged": 1697994742164
        }
      }
    },
    {
      "cell_type": "code",
      "source": [
        "model_name = \"car-bike-object-detection-model\"\n",
        "model = Model(\n",
        "    path=f\"azureml://jobs/{best_run.info.run_id}/outputs/artifacts/outputs/mlflow-model/\",\n",
        "    name=model_name,\n",
        "    description = \"my sample image\",\n",
        "    type= AssetTypes.MLFLOW_MODEL,\n",
        ")\n",
        "model"
      ],
      "outputs": [
        {
          "output_type": "execute_result",
          "execution_count": 33,
          "data": {
            "text/plain": "Model({'job_name': None, 'intellectual_property': None, 'is_anonymous': False, 'auto_increment_version': True, 'auto_delete_setting': None, 'name': 'car-bike-object-detection-model', 'description': 'my sample image', 'tags': {}, 'properties': {}, 'print_as_yaml': True, 'id': None, 'Resource__source_path': None, 'base_path': '/mnt/batch/tasks/shared/LS_root/mounts/clusters/testrc101/code/Users/ron.todo.poderoso/proyecto', 'creation_context': None, 'serialize': <msrest.serialization.Serializer object at 0x7fee57c10d90>, 'version': None, 'latest_version': None, 'path': 'azureml://jobs/amusing_camel_ssmp0rm8pv_HD_0/outputs/artifacts/outputs/mlflow-model/', 'datastore': None, 'utc_time_created': None, 'flavors': None, 'arm_type': 'model_version', 'type': 'mlflow_model', 'stage': None})"
          },
          "metadata": {}
        }
      ],
      "execution_count": 33,
      "metadata": {
        "jupyter": {
          "source_hidden": false,
          "outputs_hidden": false
        },
        "nteract": {
          "transient": {
            "deleting": false
          }
        },
        "gather": {
          "logged": 1697994746393
        }
      }
    },
    {
      "cell_type": "code",
      "source": [
        "registered_model = ml_client.models.create_or_update(model)"
      ],
      "outputs": [],
      "execution_count": 34,
      "metadata": {
        "jupyter": {
          "source_hidden": false,
          "outputs_hidden": false
        },
        "nteract": {
          "transient": {
            "deleting": false
          }
        },
        "gather": {
          "logged": 1697994751905
        }
      }
    },
    {
      "cell_type": "code",
      "source": [
        "registered_model.id"
      ],
      "outputs": [
        {
          "output_type": "execute_result",
          "execution_count": 35,
          "data": {
            "text/plain": "'/subscriptions/46169265-43c5-42f4-b171-b27bdd8e5afa/resourceGroups/rchoque/providers/Microsoft.MachineLearningServices/workspaces/test-ml-rc-101/models/car-bike-object-detection-model/versions/2'"
          },
          "metadata": {}
        }
      ],
      "execution_count": 35,
      "metadata": {
        "jupyter": {
          "source_hidden": false,
          "outputs_hidden": false
        },
        "nteract": {
          "transient": {
            "deleting": false
          }
        },
        "gather": {
          "logged": 1697994756873
        }
      }
    },
    {
      "cell_type": "markdown",
      "source": [
        "**Deployment**\n"
      ],
      "metadata": {
        "nteract": {
          "transient": {
            "deleting": false
          }
        }
      }
    },
    {
      "cell_type": "code",
      "source": [
        "from azure.ai.ml.entities import OnlineRequestSettings\n",
        "req_timeout = OnlineRequestSettings(request_timeout_ms=90000)\n",
        "\n",
        "deployment = ManagedOnlineDeployment(\n",
        "    name = \"id-mc-car-bike-items-mlflow-depl\",\n",
        "    endpoint_name  = online_endpoint_name,\n",
        "    model = registered_model.id,\n",
        "    #gpu\n",
        "    instance_type = \"Standard_E4s_v3\",\n",
        "    instance_count = 1,\n",
        "    request_settings = req_timeout\n",
        ")"
      ],
      "outputs": [],
      "execution_count": 38,
      "metadata": {
        "jupyter": {
          "source_hidden": false,
          "outputs_hidden": false
        },
        "nteract": {
          "transient": {
            "deleting": false
          }
        },
        "gather": {
          "logged": 1697997955098
        }
      }
    },
    {
      "cell_type": "code",
      "source": [
        "ml_client.online_deployments.begin_create_or_update(deployment).result()"
      ],
      "outputs": [
        {
          "output_type": "stream",
          "name": "stderr",
          "text": "Check: endpoint car-bike-items10221709 exists\n"
        },
        {
          "output_type": "stream",
          "name": "stdout",
          "text": "........................."
        },
        {
          "output_type": "error",
          "ename": "HttpResponseError",
          "evalue": "(None) OutOfQuota: Not enough cluster CPU quota. The amount of additional CPU quota requested is 8, and you are currently using 14. Your amount of maximum quota is 20. Please see troubleshooting guide, available here: https://aka.ms/oe-tsg#error-outofquota\nCode: None\nMessage: OutOfQuota: Not enough cluster CPU quota. The amount of additional CPU quota requested is 8, and you are currently using 14. Your amount of maximum quota is 20. Please see troubleshooting guide, available here: https://aka.ms/oe-tsg#error-outofquota\nException Details:\t(None) OutOfQuota: Not enough cluster CPU quota. The amount of additional CPU quota requested is 8, and you are currently using 14. Your amount of maximum quota is 20. Please see troubleshooting guide, available here: https://aka.ms/oe-tsg#error-outofquota\n\tCode: None\n\tMessage: OutOfQuota: Not enough cluster CPU quota. The amount of additional CPU quota requested is 8, and you are currently using 14. Your amount of maximum quota is 20. Please see troubleshooting guide, available here: https://aka.ms/oe-tsg#error-outofquota",
          "traceback": [
            "\u001b[0;31m---------------------------------------------------------------------------\u001b[0m",
            "\u001b[0;31mOperationFailed\u001b[0m                           Traceback (most recent call last)",
            "File \u001b[0;32m/anaconda/envs/azureml_py38/lib/python3.8/site-packages/azure/core/polling/base_polling.py:466\u001b[0m, in \u001b[0;36mLROBasePolling.run\u001b[0;34m(self)\u001b[0m\n\u001b[1;32m    465\u001b[0m \u001b[38;5;28;01mtry\u001b[39;00m:\n\u001b[0;32m--> 466\u001b[0m     \u001b[38;5;28;43mself\u001b[39;49m\u001b[38;5;241;43m.\u001b[39;49m\u001b[43m_poll\u001b[49m\u001b[43m(\u001b[49m\u001b[43m)\u001b[49m\n\u001b[1;32m    468\u001b[0m \u001b[38;5;28;01mexcept\u001b[39;00m BadStatus \u001b[38;5;28;01mas\u001b[39;00m err:\n",
            "File \u001b[0;32m/anaconda/envs/azureml_py38/lib/python3.8/site-packages/azure/core/polling/base_polling.py:500\u001b[0m, in \u001b[0;36mLROBasePolling._poll\u001b[0;34m(self)\u001b[0m\n\u001b[1;32m    499\u001b[0m \u001b[38;5;28;01mif\u001b[39;00m _failed(\u001b[38;5;28mself\u001b[39m\u001b[38;5;241m.\u001b[39mstatus()):\n\u001b[0;32m--> 500\u001b[0m     \u001b[38;5;28;01mraise\u001b[39;00m OperationFailed(\u001b[38;5;124m\"\u001b[39m\u001b[38;5;124mOperation failed or canceled\u001b[39m\u001b[38;5;124m\"\u001b[39m)\n\u001b[1;32m    502\u001b[0m final_get_url \u001b[38;5;241m=\u001b[39m \u001b[38;5;28mself\u001b[39m\u001b[38;5;241m.\u001b[39m_operation\u001b[38;5;241m.\u001b[39mget_final_get_url(\u001b[38;5;28mself\u001b[39m\u001b[38;5;241m.\u001b[39m_pipeline_response)\n",
            "\u001b[0;31mOperationFailed\u001b[0m: Operation failed or canceled",
            "\nDuring handling of the above exception, another exception occurred:\n",
            "\u001b[0;31mHttpResponseError\u001b[0m                         Traceback (most recent call last)",
            "Cell \u001b[0;32mIn[37], line 1\u001b[0m\n\u001b[0;32m----> 1\u001b[0m \u001b[43mml_client\u001b[49m\u001b[38;5;241;43m.\u001b[39;49m\u001b[43monline_deployments\u001b[49m\u001b[38;5;241;43m.\u001b[39;49m\u001b[43mbegin_create_or_update\u001b[49m\u001b[43m(\u001b[49m\u001b[43mdeployment\u001b[49m\u001b[43m)\u001b[49m\u001b[38;5;241;43m.\u001b[39;49m\u001b[43mresult\u001b[49m\u001b[43m(\u001b[49m\u001b[43m)\u001b[49m\n",
            "File \u001b[0;32m/anaconda/envs/azureml_py38/lib/python3.8/site-packages/azure/core/polling/_poller.py:230\u001b[0m, in \u001b[0;36mLROPoller.result\u001b[0;34m(self, timeout)\u001b[0m\n\u001b[1;32m    222\u001b[0m \u001b[38;5;28;01mdef\u001b[39;00m \u001b[38;5;21mresult\u001b[39m(\u001b[38;5;28mself\u001b[39m, timeout: Optional[\u001b[38;5;28mfloat\u001b[39m] \u001b[38;5;241m=\u001b[39m \u001b[38;5;28;01mNone\u001b[39;00m) \u001b[38;5;241m-\u001b[39m\u001b[38;5;241m>\u001b[39m PollingReturnType:\n\u001b[1;32m    223\u001b[0m \u001b[38;5;250m    \u001b[39m\u001b[38;5;124;03m\"\"\"Return the result of the long running operation, or\u001b[39;00m\n\u001b[1;32m    224\u001b[0m \u001b[38;5;124;03m    the result available after the specified timeout.\u001b[39;00m\n\u001b[1;32m    225\u001b[0m \n\u001b[0;32m   (...)\u001b[0m\n\u001b[1;32m    228\u001b[0m \u001b[38;5;124;03m    :raises ~azure.core.exceptions.HttpResponseError: Server problem with the query.\u001b[39;00m\n\u001b[1;32m    229\u001b[0m \u001b[38;5;124;03m    \"\"\"\u001b[39;00m\n\u001b[0;32m--> 230\u001b[0m     \u001b[38;5;28;43mself\u001b[39;49m\u001b[38;5;241;43m.\u001b[39;49m\u001b[43mwait\u001b[49m\u001b[43m(\u001b[49m\u001b[43mtimeout\u001b[49m\u001b[43m)\u001b[49m\n\u001b[1;32m    231\u001b[0m     \u001b[38;5;28;01mreturn\u001b[39;00m \u001b[38;5;28mself\u001b[39m\u001b[38;5;241m.\u001b[39m_polling_method\u001b[38;5;241m.\u001b[39mresource()\n",
            "File \u001b[0;32m/anaconda/envs/azureml_py38/lib/python3.8/site-packages/azure/core/tracing/decorator.py:76\u001b[0m, in \u001b[0;36mdistributed_trace.<locals>.decorator.<locals>.wrapper_use_tracer\u001b[0;34m(*args, **kwargs)\u001b[0m\n\u001b[1;32m     74\u001b[0m span_impl_type \u001b[38;5;241m=\u001b[39m settings\u001b[38;5;241m.\u001b[39mtracing_implementation()\n\u001b[1;32m     75\u001b[0m \u001b[38;5;28;01mif\u001b[39;00m span_impl_type \u001b[38;5;129;01mis\u001b[39;00m \u001b[38;5;28;01mNone\u001b[39;00m:\n\u001b[0;32m---> 76\u001b[0m     \u001b[38;5;28;01mreturn\u001b[39;00m \u001b[43mfunc\u001b[49m\u001b[43m(\u001b[49m\u001b[38;5;241;43m*\u001b[39;49m\u001b[43margs\u001b[49m\u001b[43m,\u001b[49m\u001b[43m \u001b[49m\u001b[38;5;241;43m*\u001b[39;49m\u001b[38;5;241;43m*\u001b[39;49m\u001b[43mkwargs\u001b[49m\u001b[43m)\u001b[49m\n\u001b[1;32m     78\u001b[0m \u001b[38;5;66;03m# Merge span is parameter is set, but only if no explicit parent are passed\u001b[39;00m\n\u001b[1;32m     79\u001b[0m \u001b[38;5;28;01mif\u001b[39;00m merge_span \u001b[38;5;129;01mand\u001b[39;00m \u001b[38;5;129;01mnot\u001b[39;00m passed_in_parent:\n",
            "File \u001b[0;32m/anaconda/envs/azureml_py38/lib/python3.8/site-packages/azure/core/polling/_poller.py:249\u001b[0m, in \u001b[0;36mLROPoller.wait\u001b[0;34m(self, timeout)\u001b[0m\n\u001b[1;32m    245\u001b[0m \u001b[38;5;28mself\u001b[39m\u001b[38;5;241m.\u001b[39m_thread\u001b[38;5;241m.\u001b[39mjoin(timeout\u001b[38;5;241m=\u001b[39mtimeout)\n\u001b[1;32m    246\u001b[0m \u001b[38;5;28;01mtry\u001b[39;00m:\n\u001b[1;32m    247\u001b[0m     \u001b[38;5;66;03m# Let's handle possible None in forgiveness here\u001b[39;00m\n\u001b[1;32m    248\u001b[0m     \u001b[38;5;66;03m# https://github.com/python/mypy/issues/8165\u001b[39;00m\n\u001b[0;32m--> 249\u001b[0m     \u001b[38;5;28;01mraise\u001b[39;00m \u001b[38;5;28mself\u001b[39m\u001b[38;5;241m.\u001b[39m_exception  \u001b[38;5;66;03m# type: ignore\u001b[39;00m\n\u001b[1;32m    250\u001b[0m \u001b[38;5;28;01mexcept\u001b[39;00m \u001b[38;5;167;01mTypeError\u001b[39;00m:  \u001b[38;5;66;03m# Was None\u001b[39;00m\n\u001b[1;32m    251\u001b[0m     \u001b[38;5;28;01mpass\u001b[39;00m\n",
            "File \u001b[0;32m/anaconda/envs/azureml_py38/lib/python3.8/site-packages/azure/core/polling/_poller.py:169\u001b[0m, in \u001b[0;36mLROPoller._start\u001b[0;34m(self)\u001b[0m\n\u001b[1;32m    162\u001b[0m \u001b[38;5;250m\u001b[39m\u001b[38;5;124;03m\"\"\"Start the long running operation.\u001b[39;00m\n\u001b[1;32m    163\u001b[0m \u001b[38;5;124;03mOn completion, runs any callbacks.\u001b[39;00m\n\u001b[1;32m    164\u001b[0m \n\u001b[1;32m    165\u001b[0m \u001b[38;5;124;03m:param callable update_cmd: The API request to check the status of\u001b[39;00m\n\u001b[1;32m    166\u001b[0m \u001b[38;5;124;03m the operation.\u001b[39;00m\n\u001b[1;32m    167\u001b[0m \u001b[38;5;124;03m\"\"\"\u001b[39;00m\n\u001b[1;32m    168\u001b[0m \u001b[38;5;28;01mtry\u001b[39;00m:\n\u001b[0;32m--> 169\u001b[0m     \u001b[38;5;28;43mself\u001b[39;49m\u001b[38;5;241;43m.\u001b[39;49m\u001b[43m_polling_method\u001b[49m\u001b[38;5;241;43m.\u001b[39;49m\u001b[43mrun\u001b[49m\u001b[43m(\u001b[49m\u001b[43m)\u001b[49m\n\u001b[1;32m    170\u001b[0m \u001b[38;5;28;01mexcept\u001b[39;00m AzureError \u001b[38;5;28;01mas\u001b[39;00m error:\n\u001b[1;32m    171\u001b[0m     \u001b[38;5;28;01mif\u001b[39;00m \u001b[38;5;129;01mnot\u001b[39;00m error\u001b[38;5;241m.\u001b[39mcontinuation_token:\n",
            "File \u001b[0;32m/anaconda/envs/azureml_py38/lib/python3.8/site-packages/azure/core/polling/base_polling.py:481\u001b[0m, in \u001b[0;36mLROBasePolling.run\u001b[0;34m(self)\u001b[0m\n\u001b[1;32m    474\u001b[0m     \u001b[38;5;28;01mraise\u001b[39;00m HttpResponseError(\n\u001b[1;32m    475\u001b[0m         response\u001b[38;5;241m=\u001b[39m\u001b[38;5;28mself\u001b[39m\u001b[38;5;241m.\u001b[39m_pipeline_response\u001b[38;5;241m.\u001b[39mhttp_response,\n\u001b[1;32m    476\u001b[0m         message\u001b[38;5;241m=\u001b[39m\u001b[38;5;28mstr\u001b[39m(err),\n\u001b[1;32m    477\u001b[0m         error\u001b[38;5;241m=\u001b[39merr,\n\u001b[1;32m    478\u001b[0m     )\n\u001b[1;32m    480\u001b[0m \u001b[38;5;28;01mexcept\u001b[39;00m OperationFailed \u001b[38;5;28;01mas\u001b[39;00m err:\n\u001b[0;32m--> 481\u001b[0m     \u001b[38;5;28;01mraise\u001b[39;00m HttpResponseError(response\u001b[38;5;241m=\u001b[39m\u001b[38;5;28mself\u001b[39m\u001b[38;5;241m.\u001b[39m_pipeline_response\u001b[38;5;241m.\u001b[39mhttp_response, error\u001b[38;5;241m=\u001b[39merr)\n",
            "\u001b[0;31mHttpResponseError\u001b[0m: (None) OutOfQuota: Not enough cluster CPU quota. The amount of additional CPU quota requested is 8, and you are currently using 14. Your amount of maximum quota is 20. Please see troubleshooting guide, available here: https://aka.ms/oe-tsg#error-outofquota\nCode: None\nMessage: OutOfQuota: Not enough cluster CPU quota. The amount of additional CPU quota requested is 8, and you are currently using 14. Your amount of maximum quota is 20. Please see troubleshooting guide, available here: https://aka.ms/oe-tsg#error-outofquota\nException Details:\t(None) OutOfQuota: Not enough cluster CPU quota. The amount of additional CPU quota requested is 8, and you are currently using 14. Your amount of maximum quota is 20. Please see troubleshooting guide, available here: https://aka.ms/oe-tsg#error-outofquota\n\tCode: None\n\tMessage: OutOfQuota: Not enough cluster CPU quota. The amount of additional CPU quota requested is 8, and you are currently using 14. Your amount of maximum quota is 20. Please see troubleshooting guide, available here: https://aka.ms/oe-tsg#error-outofquota"
          ]
        }
      ],
      "execution_count": 37,
      "metadata": {
        "jupyter": {
          "source_hidden": false,
          "outputs_hidden": false
        },
        "nteract": {
          "transient": {
            "deleting": false
          }
        },
        "gather": {
          "logged": 1697994895361
        }
      }
    },
    {
      "cell_type": "markdown",
      "source": [
        "**Inferencias / Predicciones**"
      ],
      "metadata": {
        "nteract": {
          "transient": {
            "deleting": false
          }
        }
      }
    },
    {
      "cell_type": "code",
      "source": [
        "import base64\n",
        "\n",
        "online_endpoint_name = \"car-bike-items10211955\"\n",
        "deployment_name = \"car-bike-object-detection-mode-2\"\n",
        "\n",
        "sample_image =os.path.join(dataset_dir,\"Bike\",\"Bike (10).jpg\")\n",
        "\n",
        "def read_image(image_path):\n",
        "    with open(image_path, \"rb\") as f:\n",
        "        return f.read()\n",
        "        \n",
        "request_json = {\n",
        "    \"input_data\":{\n",
        "        \"columns\":['image'],\n",
        "        \"data\":[base64.encodebytes(read_image(sample_image)).decode(\"utf-8\")]\n",
        "    }\n",
        "}"
      ],
      "outputs": [],
      "execution_count": 39,
      "metadata": {
        "jupyter": {
          "source_hidden": false,
          "outputs_hidden": false
        },
        "nteract": {
          "transient": {
            "deleting": false
          }
        },
        "gather": {
          "logged": 1698001302258
        }
      }
    },
    {
      "cell_type": "code",
      "source": [
        "request_file_name = \"sample_request_data.json\"\n",
        "\n",
        "with open(request_file_name, \"w\") as request_file:\n",
        "    json.dump(request_json, request_file)"
      ],
      "outputs": [],
      "execution_count": 40,
      "metadata": {
        "jupyter": {
          "source_hidden": false,
          "outputs_hidden": false
        },
        "nteract": {
          "transient": {
            "deleting": false
          }
        },
        "gather": {
          "logged": 1698001305476
        }
      }
    },
    {
      "cell_type": "code",
      "source": [
        "resp = ml_client.online_endpoints.invoke(\n",
        "    endpoint_name=online_endpoint_name,\n",
        "    deployment_name=deployment_name,\n",
        "    request_file=request_file_name\n",
        ")\n",
        "\n",
        "resp"
      ],
      "outputs": [
        {
          "output_type": "error",
          "ename": "ResourceNotFoundError",
          "evalue": "(ParentResourceNotFound) Failed to perform 'read' on resource(s) of type 'workspaces/onlineEndpoints/deployments', because the parent resource '/subscriptions/46169265-43c5-42f4-b171-b27bdd8e5afa/resourceGroups/rchoque/providers/Microsoft.MachineLearningServices/workspaces/test-ml-rc-101/onlineEndpoints/car-bike-items10211955' could not be found.\nCode: ParentResourceNotFound\nMessage: Failed to perform 'read' on resource(s) of type 'workspaces/onlineEndpoints/deployments', because the parent resource '/subscriptions/46169265-43c5-42f4-b171-b27bdd8e5afa/resourceGroups/rchoque/providers/Microsoft.MachineLearningServices/workspaces/test-ml-rc-101/onlineEndpoints/car-bike-items10211955' could not be found.",
          "traceback": [
            "\u001b[0;31m---------------------------------------------------------------------------\u001b[0m",
            "\u001b[0;31mResourceNotFoundError\u001b[0m                     Traceback (most recent call last)",
            "Cell \u001b[0;32mIn[41], line 1\u001b[0m\n\u001b[0;32m----> 1\u001b[0m resp \u001b[38;5;241m=\u001b[39m \u001b[43mml_client\u001b[49m\u001b[38;5;241;43m.\u001b[39;49m\u001b[43monline_endpoints\u001b[49m\u001b[38;5;241;43m.\u001b[39;49m\u001b[43minvoke\u001b[49m\u001b[43m(\u001b[49m\n\u001b[1;32m      2\u001b[0m \u001b[43m    \u001b[49m\u001b[43mendpoint_name\u001b[49m\u001b[38;5;241;43m=\u001b[39;49m\u001b[43monline_endpoint_name\u001b[49m\u001b[43m,\u001b[49m\n\u001b[1;32m      3\u001b[0m \u001b[43m    \u001b[49m\u001b[43mdeployment_name\u001b[49m\u001b[38;5;241;43m=\u001b[39;49m\u001b[43mdeployment_name\u001b[49m\u001b[43m,\u001b[49m\n\u001b[1;32m      4\u001b[0m \u001b[43m    \u001b[49m\u001b[43mrequest_file\u001b[49m\u001b[38;5;241;43m=\u001b[39;49m\u001b[43mrequest_file_name\u001b[49m\n\u001b[1;32m      5\u001b[0m \u001b[43m)\u001b[49m\n\u001b[1;32m      7\u001b[0m resp\n",
            "File \u001b[0;32m/anaconda/envs/azureml_py38/lib/python3.8/site-packages/azure/core/tracing/decorator.py:76\u001b[0m, in \u001b[0;36mdistributed_trace.<locals>.decorator.<locals>.wrapper_use_tracer\u001b[0;34m(*args, **kwargs)\u001b[0m\n\u001b[1;32m     74\u001b[0m span_impl_type \u001b[38;5;241m=\u001b[39m settings\u001b[38;5;241m.\u001b[39mtracing_implementation()\n\u001b[1;32m     75\u001b[0m \u001b[38;5;28;01mif\u001b[39;00m span_impl_type \u001b[38;5;129;01mis\u001b[39;00m \u001b[38;5;28;01mNone\u001b[39;00m:\n\u001b[0;32m---> 76\u001b[0m     \u001b[38;5;28;01mreturn\u001b[39;00m \u001b[43mfunc\u001b[49m\u001b[43m(\u001b[49m\u001b[38;5;241;43m*\u001b[39;49m\u001b[43margs\u001b[49m\u001b[43m,\u001b[49m\u001b[43m \u001b[49m\u001b[38;5;241;43m*\u001b[39;49m\u001b[38;5;241;43m*\u001b[39;49m\u001b[43mkwargs\u001b[49m\u001b[43m)\u001b[49m\n\u001b[1;32m     78\u001b[0m \u001b[38;5;66;03m# Merge span is parameter is set, but only if no explicit parent are passed\u001b[39;00m\n\u001b[1;32m     79\u001b[0m \u001b[38;5;28;01mif\u001b[39;00m merge_span \u001b[38;5;129;01mand\u001b[39;00m \u001b[38;5;129;01mnot\u001b[39;00m passed_in_parent:\n",
            "File \u001b[0;32m/anaconda/envs/azureml_py38/lib/python3.8/site-packages/azure/ai/ml/_telemetry/activity.py:275\u001b[0m, in \u001b[0;36mmonitor_with_activity.<locals>.monitor.<locals>.wrapper\u001b[0;34m(*args, **kwargs)\u001b[0m\n\u001b[1;32m    272\u001b[0m \u001b[38;5;129m@functools\u001b[39m\u001b[38;5;241m.\u001b[39mwraps(f)\n\u001b[1;32m    273\u001b[0m \u001b[38;5;28;01mdef\u001b[39;00m \u001b[38;5;21mwrapper\u001b[39m(\u001b[38;5;241m*\u001b[39margs, \u001b[38;5;241m*\u001b[39m\u001b[38;5;241m*\u001b[39mkwargs):\n\u001b[1;32m    274\u001b[0m     \u001b[38;5;28;01mwith\u001b[39;00m log_activity(logger, activity_name \u001b[38;5;129;01mor\u001b[39;00m f\u001b[38;5;241m.\u001b[39m\u001b[38;5;18m__name__\u001b[39m, activity_type, custom_dimensions):\n\u001b[0;32m--> 275\u001b[0m         \u001b[38;5;28;01mreturn\u001b[39;00m \u001b[43mf\u001b[49m\u001b[43m(\u001b[49m\u001b[38;5;241;43m*\u001b[39;49m\u001b[43margs\u001b[49m\u001b[43m,\u001b[49m\u001b[43m \u001b[49m\u001b[38;5;241;43m*\u001b[39;49m\u001b[38;5;241;43m*\u001b[39;49m\u001b[43mkwargs\u001b[49m\u001b[43m)\u001b[49m\n",
            "File \u001b[0;32m/anaconda/envs/azureml_py38/lib/python3.8/site-packages/azure/ai/ml/operations/_online_endpoint_operations.py:329\u001b[0m, in \u001b[0;36mOnlineEndpointOperations.invoke\u001b[0;34m(self, endpoint_name, request_file, deployment_name, input_data, params_override, local, **kwargs)\u001b[0m\n\u001b[1;32m    327\u001b[0m \u001b[38;5;66;03m# Until this bug is resolved https://msdata.visualstudio.com/Vienna/_workitems/edit/1446538\u001b[39;00m\n\u001b[1;32m    328\u001b[0m \u001b[38;5;28;01mif\u001b[39;00m deployment_name:\n\u001b[0;32m--> 329\u001b[0m     \u001b[38;5;28;43mself\u001b[39;49m\u001b[38;5;241;43m.\u001b[39;49m\u001b[43m_validate_deployment_name\u001b[49m\u001b[43m(\u001b[49m\u001b[43mendpoint_name\u001b[49m\u001b[43m,\u001b[49m\u001b[43m \u001b[49m\u001b[43mdeployment_name\u001b[49m\u001b[43m)\u001b[49m\n\u001b[1;32m    331\u001b[0m \u001b[38;5;28;01mwith\u001b[39;00m \u001b[38;5;28mopen\u001b[39m(request_file, \u001b[38;5;124m\"\u001b[39m\u001b[38;5;124mrb\u001b[39m\u001b[38;5;124m\"\u001b[39m) \u001b[38;5;28;01mas\u001b[39;00m f:\n\u001b[1;32m    332\u001b[0m     data \u001b[38;5;241m=\u001b[39m json\u001b[38;5;241m.\u001b[39mloads(f\u001b[38;5;241m.\u001b[39mread())\n",
            "File \u001b[0;32m/anaconda/envs/azureml_py38/lib/python3.8/site-packages/azure/ai/ml/operations/_online_endpoint_operations.py:438\u001b[0m, in \u001b[0;36mOnlineEndpointOperations._validate_deployment_name\u001b[0;34m(self, endpoint_name, deployment_name)\u001b[0m\n\u001b[1;32m    429\u001b[0m deployments_list \u001b[38;5;241m=\u001b[39m \u001b[38;5;28mself\u001b[39m\u001b[38;5;241m.\u001b[39m_online_deployment_operation\u001b[38;5;241m.\u001b[39mlist(\n\u001b[1;32m    430\u001b[0m     endpoint_name\u001b[38;5;241m=\u001b[39mendpoint_name,\n\u001b[1;32m    431\u001b[0m     resource_group_name\u001b[38;5;241m=\u001b[39m\u001b[38;5;28mself\u001b[39m\u001b[38;5;241m.\u001b[39m_resource_group_name,\n\u001b[0;32m   (...)\u001b[0m\n\u001b[1;32m    434\u001b[0m     \u001b[38;5;241m*\u001b[39m\u001b[38;5;241m*\u001b[39m\u001b[38;5;28mself\u001b[39m\u001b[38;5;241m.\u001b[39m_init_kwargs,\n\u001b[1;32m    435\u001b[0m )\n\u001b[1;32m    437\u001b[0m \u001b[38;5;28;01mif\u001b[39;00m deployments_list:\n\u001b[0;32m--> 438\u001b[0m     \u001b[38;5;28;01mif\u001b[39;00m \u001b[43mdeployment_name\u001b[49m\u001b[43m \u001b[49m\u001b[38;5;129;43;01mnot\u001b[39;49;00m\u001b[43m \u001b[49m\u001b[38;5;129;43;01min\u001b[39;49;00m\u001b[43m \u001b[49m\u001b[43mdeployments_list\u001b[49m:\n\u001b[1;32m    439\u001b[0m         \u001b[38;5;28;01mraise\u001b[39;00m ValidationException(\n\u001b[1;32m    440\u001b[0m             message\u001b[38;5;241m=\u001b[39m\u001b[38;5;124mf\u001b[39m\u001b[38;5;124m\"\u001b[39m\u001b[38;5;124mDeployment name \u001b[39m\u001b[38;5;132;01m{\u001b[39;00mdeployment_name\u001b[38;5;132;01m}\u001b[39;00m\u001b[38;5;124m not found for this endpoint\u001b[39m\u001b[38;5;124m\"\u001b[39m,\n\u001b[1;32m    441\u001b[0m             target\u001b[38;5;241m=\u001b[39mErrorTarget\u001b[38;5;241m.\u001b[39mONLINE_ENDPOINT,\n\u001b[0;32m   (...)\u001b[0m\n\u001b[1;32m    444\u001b[0m             error_type\u001b[38;5;241m=\u001b[39mValidationErrorType\u001b[38;5;241m.\u001b[39mRESOURCE_NOT_FOUND,\n\u001b[1;32m    445\u001b[0m         )\n\u001b[1;32m    446\u001b[0m \u001b[38;5;28;01melse\u001b[39;00m:\n",
            "File \u001b[0;32m/anaconda/envs/azureml_py38/lib/python3.8/site-packages/azure/core/paging.py:124\u001b[0m, in \u001b[0;36mItemPaged.__next__\u001b[0;34m(self)\u001b[0m\n\u001b[1;32m    122\u001b[0m \u001b[38;5;28;01mif\u001b[39;00m \u001b[38;5;28mself\u001b[39m\u001b[38;5;241m.\u001b[39m_page_iterator \u001b[38;5;129;01mis\u001b[39;00m \u001b[38;5;28;01mNone\u001b[39;00m:\n\u001b[1;32m    123\u001b[0m     \u001b[38;5;28mself\u001b[39m\u001b[38;5;241m.\u001b[39m_page_iterator \u001b[38;5;241m=\u001b[39m itertools\u001b[38;5;241m.\u001b[39mchain\u001b[38;5;241m.\u001b[39mfrom_iterable(\u001b[38;5;28mself\u001b[39m\u001b[38;5;241m.\u001b[39mby_page())\n\u001b[0;32m--> 124\u001b[0m \u001b[38;5;28;01mreturn\u001b[39;00m \u001b[38;5;28;43mnext\u001b[39;49m\u001b[43m(\u001b[49m\u001b[38;5;28;43mself\u001b[39;49m\u001b[38;5;241;43m.\u001b[39;49m\u001b[43m_page_iterator\u001b[49m\u001b[43m)\u001b[49m\n",
            "File \u001b[0;32m/anaconda/envs/azureml_py38/lib/python3.8/site-packages/azure/core/paging.py:76\u001b[0m, in \u001b[0;36mPageIterator.__next__\u001b[0;34m(self)\u001b[0m\n\u001b[1;32m     74\u001b[0m     \u001b[38;5;28;01mraise\u001b[39;00m \u001b[38;5;167;01mStopIteration\u001b[39;00m(\u001b[38;5;124m\"\u001b[39m\u001b[38;5;124mEnd of paging\u001b[39m\u001b[38;5;124m\"\u001b[39m)\n\u001b[1;32m     75\u001b[0m \u001b[38;5;28;01mtry\u001b[39;00m:\n\u001b[0;32m---> 76\u001b[0m     \u001b[38;5;28mself\u001b[39m\u001b[38;5;241m.\u001b[39m_response \u001b[38;5;241m=\u001b[39m \u001b[38;5;28;43mself\u001b[39;49m\u001b[38;5;241;43m.\u001b[39;49m\u001b[43m_get_next\u001b[49m\u001b[43m(\u001b[49m\u001b[38;5;28;43mself\u001b[39;49m\u001b[38;5;241;43m.\u001b[39;49m\u001b[43mcontinuation_token\u001b[49m\u001b[43m)\u001b[49m\n\u001b[1;32m     77\u001b[0m \u001b[38;5;28;01mexcept\u001b[39;00m AzureError \u001b[38;5;28;01mas\u001b[39;00m error:\n\u001b[1;32m     78\u001b[0m     \u001b[38;5;28;01mif\u001b[39;00m \u001b[38;5;129;01mnot\u001b[39;00m error\u001b[38;5;241m.\u001b[39mcontinuation_token:\n",
            "File \u001b[0;32m/anaconda/envs/azureml_py38/lib/python3.8/site-packages/azure/ai/ml/_restclient/v2022_02_01_preview/operations/_online_deployments_operations.py:452\u001b[0m, in \u001b[0;36mOnlineDeploymentsOperations.list.<locals>.get_next\u001b[0;34m(next_link)\u001b[0m\n\u001b[1;32m    449\u001b[0m response \u001b[38;5;241m=\u001b[39m pipeline_response\u001b[38;5;241m.\u001b[39mhttp_response\n\u001b[1;32m    451\u001b[0m \u001b[38;5;28;01mif\u001b[39;00m response\u001b[38;5;241m.\u001b[39mstatus_code \u001b[38;5;129;01mnot\u001b[39;00m \u001b[38;5;129;01min\u001b[39;00m [\u001b[38;5;241m200\u001b[39m]:\n\u001b[0;32m--> 452\u001b[0m     \u001b[43mmap_error\u001b[49m\u001b[43m(\u001b[49m\u001b[43mstatus_code\u001b[49m\u001b[38;5;241;43m=\u001b[39;49m\u001b[43mresponse\u001b[49m\u001b[38;5;241;43m.\u001b[39;49m\u001b[43mstatus_code\u001b[49m\u001b[43m,\u001b[49m\u001b[43m \u001b[49m\u001b[43mresponse\u001b[49m\u001b[38;5;241;43m=\u001b[39;49m\u001b[43mresponse\u001b[49m\u001b[43m,\u001b[49m\u001b[43m \u001b[49m\u001b[43merror_map\u001b[49m\u001b[38;5;241;43m=\u001b[39;49m\u001b[43merror_map\u001b[49m\u001b[43m)\u001b[49m\n\u001b[1;32m    453\u001b[0m     error \u001b[38;5;241m=\u001b[39m \u001b[38;5;28mself\u001b[39m\u001b[38;5;241m.\u001b[39m_deserialize\u001b[38;5;241m.\u001b[39mfailsafe_deserialize(_models\u001b[38;5;241m.\u001b[39mErrorResponse, pipeline_response)\n\u001b[1;32m    454\u001b[0m     \u001b[38;5;28;01mraise\u001b[39;00m HttpResponseError(response\u001b[38;5;241m=\u001b[39mresponse, model\u001b[38;5;241m=\u001b[39merror, error_format\u001b[38;5;241m=\u001b[39mARMErrorFormat)\n",
            "File \u001b[0;32m/anaconda/envs/azureml_py38/lib/python3.8/site-packages/azure/core/exceptions.py:109\u001b[0m, in \u001b[0;36mmap_error\u001b[0;34m(status_code, response, error_map)\u001b[0m\n\u001b[1;32m    107\u001b[0m     \u001b[38;5;28;01mreturn\u001b[39;00m\n\u001b[1;32m    108\u001b[0m error \u001b[38;5;241m=\u001b[39m error_type(response\u001b[38;5;241m=\u001b[39mresponse)\n\u001b[0;32m--> 109\u001b[0m \u001b[38;5;28;01mraise\u001b[39;00m error\n",
            "\u001b[0;31mResourceNotFoundError\u001b[0m: (ParentResourceNotFound) Failed to perform 'read' on resource(s) of type 'workspaces/onlineEndpoints/deployments', because the parent resource '/subscriptions/46169265-43c5-42f4-b171-b27bdd8e5afa/resourceGroups/rchoque/providers/Microsoft.MachineLearningServices/workspaces/test-ml-rc-101/onlineEndpoints/car-bike-items10211955' could not be found.\nCode: ParentResourceNotFound\nMessage: Failed to perform 'read' on resource(s) of type 'workspaces/onlineEndpoints/deployments', because the parent resource '/subscriptions/46169265-43c5-42f4-b171-b27bdd8e5afa/resourceGroups/rchoque/providers/Microsoft.MachineLearningServices/workspaces/test-ml-rc-101/onlineEndpoints/car-bike-items10211955' could not be found."
          ]
        }
      ],
      "execution_count": 41,
      "metadata": {
        "jupyter": {
          "source_hidden": false,
          "outputs_hidden": false
        },
        "nteract": {
          "transient": {
            "deleting": false
          }
        },
        "gather": {
          "logged": 1698001309011
        }
      }
    },
    {
      "cell_type": "code",
      "source": [],
      "outputs": [],
      "execution_count": null,
      "metadata": {
        "jupyter": {
          "source_hidden": false,
          "outputs_hidden": false
        },
        "nteract": {
          "transient": {
            "deleting": false
          }
        }
      }
    }
  ],
  "metadata": {
    "kernelspec": {
      "name": "python38-azureml",
      "language": "python",
      "display_name": "Python 3.8 - AzureML"
    },
    "language_info": {
      "name": "python",
      "version": "3.8.5",
      "mimetype": "text/x-python",
      "codemirror_mode": {
        "name": "ipython",
        "version": 3
      },
      "pygments_lexer": "ipython3",
      "nbconvert_exporter": "python",
      "file_extension": ".py"
    },
    "microsoft": {
      "ms_spell_check": {
        "ms_spell_check_language": "en"
      },
      "host": {
        "AzureML": {
          "notebookHasBeenCompleted": true
        }
      }
    },
    "kernel_info": {
      "name": "python38-azureml"
    },
    "nteract": {
      "version": "nteract-front-end@1.0.0"
    }
  },
  "nbformat": 4,
  "nbformat_minor": 2
}